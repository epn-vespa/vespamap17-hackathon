{
 "cells": [
  {
   "cell_type": "code",
   "execution_count": 1,
   "metadata": {
    "collapsed": false
   },
   "outputs": [
    {
     "name": "stderr",
     "output_type": "stream",
     "text": [
      "INFO:astropy:Hub set to run with Web Profile support enabled.\n"
     ]
    },
    {
     "name": "stdout",
     "output_type": "stream",
     "text": [
      "INFO: Hub set to run with Web Profile support enabled. [astropy.vo.samp.hub]\n",
      "INFO"
     ]
    },
    {
     "name": "stderr",
     "output_type": "stream",
     "text": [
      "INFO:astropy:Hub started\n"
     ]
    },
    {
     "name": "stdout",
     "output_type": "stream",
     "text": [
      ": Hub started [astropy.vo.samp.hub]\n"
     ]
    }
   ],
   "source": [
    "# Step 1: Creating and starting the SAMP HUB\n",
    "\n",
    "from astropy.vo.samp import SAMPHubServer\n",
    "hub = SAMPHubServer()\n",
    "hub.start()"
   ]
  },
  {
   "cell_type": "code",
   "execution_count": 2,
   "metadata": {
    "collapsed": true
   },
   "outputs": [],
   "source": [
    "# Step 2: Initializing the receiver\n",
    "\n",
    "import urllib\n",
    "#from astropy.table import Table\n",
    "from astropy.vo.samp import SAMPIntegratedClient\n",
    "\n",
    "client = SAMPIntegratedClient()\n",
    "client.connect()\n",
    "\n",
    "class Receiver(object):\n",
    "    def __init__(self, client):\n",
    "        self.client = client\n",
    "        self.received = False\n",
    "    def receive_call(self, private_key, sender_id, msg_id, mtype, params, extra):\n",
    "        self.params = params\n",
    "        self.received = True\n",
    "        self.client.reply(msg_id, {\"samp.status\": \"samp.ok\", \"samp.result\": {}})\n",
    "    def receive_notification(self, private_key, sender_id, mtype, params, extra):\n",
    "        self.params = params\n",
    "        self.received = True\n",
    "\n",
    "r = Receiver(client)\n",
    "\n",
    "client.bind_receive_call(\"table.load.votable\", r.receive_call)\n",
    "client.bind_receive_notification(\"table.load.votable\", r.receive_notification)\n",
    "\n",
    "client.bind_receive_call(\"table.load.cdf\", r.receive_call)\n",
    "client.bind_receive_notification(\"table.load.cdf\", r.receive_notification)\n",
    "\n",
    "client.bind_receive_call(\"table.load.fits\", r.receive_call)\n",
    "client.bind_receive_notification(\"table.load.fits\", r.receive_notification)"
   ]
  },
  {
   "cell_type": "code",
   "execution_count": 3,
   "metadata": {
    "collapsed": false
   },
   "outputs": [
    {
     "name": "stdout",
     "output_type": "stream",
     "text": [
      ">>> yes\n",
      "A Web application which declares to be\n",
      "\n",
      "Name: Vespa\n",
      "Origin: http://vespa.obspm.fr\n",
      "\n",
      "is requesting to be registered with the SAMP Hub.\n",
      "Pay attention that if you permit its registration, such\n",
      "application will acquire all current user privileges, like\n",
      "file read/write.\n",
      "\n",
      "Do you give your consent? [yes|no]\n"
     ]
    }
   ],
   "source": [
    "# Step 3: Waiting for SAMP message\n",
    "\n",
    "while (r.received == False):\n",
    "    pass"
   ]
  },
  {
   "cell_type": "code",
   "execution_count": null,
   "metadata": {
    "collapsed": true
   },
   "outputs": [],
   "source": [
    "# Step 4: Download files\n",
    "\n",
    "import os\n",
    "\n",
    "if len(r.params) == 2:\n",
    "    # This is the case of the full dataset\n",
    "    instrument=r.params['name']\n",
    "    print 'FUNCTION NOT ALREADY IMPLEMENTED'\n",
    "else:\n",
    "    # This is the case of the single image cube\n",
    "    \n",
    "    # First we check if the url links a CAL or a GEO file\n",
    "    # Then we create url for CAL and GEO files and download them\n",
    "    \n",
    "    if os.path.splitext(r.params['url'])[1] == '.CAL':\n",
    "        cal_url=r.params['url']\n",
    "        split_url=cal_url.split('/')\n",
    "        geo_url=[]\n",
    "        for i in range(len(split_url)):\n",
    "            if split_url[i]=='CALIBRATED': \n",
    "                geo_url.append('GEOMETRY')\n",
    "            else:\n",
    "                geo_url.append(split_url[i])\n",
    "        cal_name=os.path.basename(cal_url)\n",
    "        geo_url='/'.join(geo_url)\n",
    "        geo_url=geo_url[0:len(geo_url)-3]+'GEO'\n",
    "        geo_name=os.path.basename(geo_url)\n",
    "    else:\n",
    "        geo_url=r.params['url']\n",
    "        split_url=geo_url.split('/')\n",
    "        cal_url=[]\n",
    "        for i in range(len(split_url)):\n",
    "            if split_url[i]=='GEOMETRY': \n",
    "                cal_url.append('CALIBRATED')\n",
    "            else:\n",
    "                cal_url.append(split_url[i])\n",
    "        geo_name=os.path.basename(geo_url)\n",
    "        cal_url='/'.join(cal_url)\n",
    "        cal_url=cal_url[0:len(cal_url)-3]+'CAL'\n",
    "        cal_name=os.path.basename(cal_url)\n",
    "        \n",
    "    print 'Files to be donwloaded\\n'\n",
    "    print 'CAL file: '+cal_url+'\\n  --> to '+os.path.join('f:',cal_name)\n",
    "    print 'GEO file: '+geo_url+'\\n  --> to '+os.path.join('f:',geo_name)\n",
    "        "
   ]
  },
  {
   "cell_type": "code",
   "execution_count": 4,
   "metadata": {
    "collapsed": false
   },
   "outputs": [
    {
     "name": "stdout",
     "output_type": "stream",
     "text": [
      "Files to be donwloaded\n",
      "\n",
      "CAL file: ftp://psa.esac.esa.int/pub/mirror/VENUS-EXPRESS/VIRTIS/VEX-V-VIRTIS-2-3-V3.0/DATA/MTP019/VIR0520/CALIBRATED/VV0520_00.CAL\n",
      " to f:VV0520_00.CAL\n",
      "GEO file: ftp://psa.esac.esa.int/pub/mirror/VENUS-EXPRESS/VIRTIS/VEX-V-VIRTIS-2-3-V3.0/DATA/MTP019/VIR0520/GEOMETRY/VV0520_00.GEO\n",
      " to f:VV0520_00.GEO\n"
     ]
    }
   ],
   "source": [
    "    # Download CAL and GEO files\n",
    "    \n",
    "    calfile = urllib.URLopener()\n",
    "    calfile.retrieve(cal_url,os.path.join('f:',cal_name))\n",
    "    calfile.close()\n",
    "    \n",
    "    geofile = urllib.URLopener()\n",
    "    geofile.retrieve(geo_url,os.path.join('f:',geo_name))\n",
    "    geofile.close()"
   ]
  },
  {
   "cell_type": "code",
   "execution_count": null,
   "metadata": {
    "collapsed": true
   },
   "outputs": [],
   "source": []
  }
 ],
 "metadata": {
  "kernelspec": {
   "display_name": "Python 2",
   "language": "python",
   "name": "python2"
  },
  "language_info": {
   "codemirror_mode": {
    "name": "ipython",
    "version": 2
   },
   "file_extension": ".py",
   "mimetype": "text/x-python",
   "name": "python",
   "nbconvert_exporter": "python",
   "pygments_lexer": "ipython2",
   "version": "2.7.10"
  }
 },
 "nbformat": 4,
 "nbformat_minor": 0
}
